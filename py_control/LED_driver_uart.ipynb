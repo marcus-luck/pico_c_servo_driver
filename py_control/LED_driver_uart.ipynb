{
 "cells": [
  {
   "cell_type": "code",
   "execution_count": 1,
   "id": "dd081c67-b3d1-4464-b47c-872cc163ffe9",
   "metadata": {},
   "outputs": [],
   "source": [
    "import serial\n",
    "import time\n",
    "import math\n",
    "from collections import defaultdict"
   ]
  },
  {
   "cell_type": "code",
   "execution_count": 15,
   "id": "0efb5eb1-cfd8-48bf-b008-9a9a53a760a6",
   "metadata": {},
   "outputs": [],
   "source": [
    "devaddr = \"/dev/ttyUSB0\"\n",
    "ser = serial.Serial(devaddr, baudrate=115200)"
   ]
  },
  {
   "cell_type": "code",
   "execution_count": 3,
   "id": "caa5e2df-8e9c-428b-a81d-b98fa885630e",
   "metadata": {},
   "outputs": [],
   "source": [
    "def command_builder(cmd,addr,value):\n",
    "    rw = 1 # write=1 read=0, 1 bit\n",
    "    cmd = cmd & 0x7f # 7-bit command\n",
    "    addr = addr & 0xff # 8-bit addr\n",
    "    value = value & 0xffff # 16-bit value\n",
    "    \n",
    "    byte1 = cmd + (rw << 7)\n",
    "    bcommand = bytes([byte1, addr, (value >> 8), (value & 0x00ff)])\n",
    "    # command = (byte1 << 23) + (addr << 15) + value\n",
    "    return bcommand\n",
    "    \n",
    "    "
   ]
  },
  {
   "cell_type": "code",
   "execution_count": 12,
   "id": "95bb972b-ddcd-4f3f-bb51-0fe446613653",
   "metadata": {},
   "outputs": [],
   "source": [
    "def turn_led_off(led_number):\n",
    "    off_cmd = 2\n",
    "    cmd = command_builder(off_cmd,0,led_number)\n",
    "    ser.write(cmd)\n",
    "    \n",
    "def turn_led_on(led_number):\n",
    "    on_cmd = 1\n",
    "    cmd = command_builder(on_cmd,0,led_number)\n",
    "    \n",
    "def broadcast_pwm(value):\n",
    "    if not (0 < value < 2**16):\n",
    "        print(\"Value out of bounds\")\n",
    "        return\n",
    "    cmd = command_builder(0,0xFF,value)\n",
    "    ser.write(cmd)\n",
    "    \n",
    "def set_led_pwm(lednum, value):\n",
    "    if not (0 <= lednum < 8):\n",
    "        print(\"Only got 8 LED connected\")\n",
    "        return\n",
    "    if not (0 <= value < 2**16):\n",
    "        print(\"Value out of bounds\")\n",
    "        return\n",
    "    cmd = command_builder(0,lednum,value)\n",
    "    ser.write(cmd)"
   ]
  },
  {
   "cell_type": "code",
   "execution_count": 46,
   "id": "6569192d-c205-4b0f-8d06-35a309d8f9cd",
   "metadata": {},
   "outputs": [],
   "source": [
    "set_led_pwm(4, 1000)"
   ]
  },
  {
   "cell_type": "code",
   "execution_count": 7,
   "id": "af861010-06c7-4f06-896d-e710a051f86a",
   "metadata": {},
   "outputs": [],
   "source": [
    "broadcast_pwm(1000)"
   ]
  },
  {
   "cell_type": "code",
   "execution_count": null,
   "id": "526cdab0-1742-4027-afd3-fb95979d7371",
   "metadata": {},
   "outputs": [],
   "source": []
  }
 ],
 "metadata": {
  "kernelspec": {
   "display_name": "rocm",
   "language": "python",
   "name": "python3"
  },
  "language_info": {
   "codemirror_mode": {
    "name": "ipython",
    "version": 3
   },
   "file_extension": ".py",
   "mimetype": "text/x-python",
   "name": "python",
   "nbconvert_exporter": "python",
   "pygments_lexer": "ipython3",
   "version": "3.10.10"
  }
 },
 "nbformat": 4,
 "nbformat_minor": 5
}
